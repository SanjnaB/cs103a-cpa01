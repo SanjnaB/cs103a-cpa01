{
 "cells": [
  {
   "cell_type": "code",
   "execution_count": 4,
   "metadata": {},
   "outputs": [
    {
     "name": "stdout",
     "output_type": "stream",
     "text": [
      "['\\ufeffYearStart', 'YearEnd', 'LocationAbbr', 'LocationDesc', 'DataSource', 'Topic', 'Question', 'Response', 'DataValueUnit', 'DataValueType', 'DataValue', 'DataValueAlt', 'DataValueFootnoteSymbol', 'DatavalueFootnote', 'LowConfidenceLimit', 'HighConfidenceLimit', 'StratificationCategory1', 'Stratification1', 'StratificationCategory2', 'Stratification2', 'StratificationCategory3', 'Stratification3', 'GeoLocation', 'ResponseID', 'LocationID', 'TopicID', 'QuestionID', 'DataValueTypeID', 'StratificationCategoryID1', 'StratificationID1', 'StratificationCategoryID2', 'StratificationID2', 'StratificationCategoryID3', 'StratificationID3']\n",
      "\n",
      "['2010', '2014', 'AK', 'Alaska', 'Death Certificate', 'Cancer', 'Cancer of the oral cavity and pharynx, mortality', '', '', 'Average Annual Number', '3', '3', '', '', '', '', 'Gender', 'Female', '', '', '', '', 'POINT (-147.722059 64.84507996)', '', '2', 'CAN', 'CAN10_2', 'AVGANNNMBR', 'GENDER', 'GENF', '', '', '', '']\n",
      "\n",
      "['2010', '2014', 'AK', 'Alaska', 'Death Certificate', 'Cancer', 'Cancer of the oral cavity and pharynx, mortality', '', '', 'Average Annual Number', '15', '15', '', '', '', '', 'Overall', 'Overall', '', '', '', '', 'POINT (-147.722059 64.84507996)', '', '2', 'CAN', 'CAN10_2', 'AVGANNNMBR', 'OVERALL', 'OVR', '', '', '', '']\n",
      "\n",
      "['2010', '2014', 'AZ', 'Arizona', 'Death Certificate', 'Cancer', 'Cancer of the oral cavity and pharynx, mortality', '', '', 'Average Annual Number', '109', '109', '', '', '', '', 'Gender', 'Male', '', '', '', '', 'POINT (-111.7638113 34.86597028)', '', '4', 'CAN', 'CAN10_2', 'AVGANNNMBR', 'GENDER', 'GENM', '', '', '', '']\n",
      "\n",
      "['2008', '2012', 'NY', 'New York', 'Death Certificate', 'Cancer', 'Cancer of the oral cavity and pharynx, mortality', '', '', 'Average Annual Number', '329', '329', '', '', '', '', 'Gender', 'Male', '', '', '', '', 'POINT (-75.54397043 42.82700103)', '', '36', 'CAN', 'CAN10_2', 'AVGANNNMBR', 'GENDER', 'GENM', '', '', '', '']\n",
      "\n"
     ]
    }
   ],
   "source": [
    "import csv\n",
    "\n",
    "# URL: https://chronicdata.cdc.gov/Chronic-Disease-Indicators/U-S-Chronic-Disease-Indicators-CDI-/g4ie-h725/data      \n",
    "\n",
    "with open('U.S._Chronic_Disease_Indicators__CDI_ (1).csv', newline ='') as csvfile:\n",
    "    reader = csv.reader(csvfile, delimiter=',')\n",
    "    number = 5\n",
    "    for row in reader:\n",
    "        if number > 0:\n",
    "            number = number - 1\n",
    "            print('{}\\n'.format(row))"
   ]
  },
  {
   "cell_type": "code",
   "execution_count": null,
   "metadata": {},
   "outputs": [],
   "source": [
    "#load data into a pandas dataframe \n",
    "\n",
    "data"
   ]
  }
 ],
 "metadata": {
  "kernelspec": {
   "display_name": "Python 3",
   "language": "python",
   "name": "python3"
  },
  "language_info": {
   "codemirror_mode": {
    "name": "ipython",
    "version": 3
   },
   "file_extension": ".py",
   "mimetype": "text/x-python",
   "name": "python",
   "nbconvert_exporter": "python",
   "pygments_lexer": "ipython3",
   "version": "3.8.5"
  }
 },
 "nbformat": 4,
 "nbformat_minor": 4
}
